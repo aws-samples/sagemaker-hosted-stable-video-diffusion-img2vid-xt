{
 "cells": [
  {
   "cell_type": "markdown",
   "id": "0",
   "metadata": {},
   "source": [
    "# Stable Video Diffusion XT 1.1 on Amazon SageMaker\n",
    "\n",
    "Stability AI's [Stable Video Diffusion XT (SVT-XT) 1.1](https://medium.com/r/?url=https%3A%2F%2Fstability.ai%2Fstable-video) foundation model is a diffusion model that takes in a still image as a conditioning frame and generates a short 4 second video. The notebook walks through configuring, creating, and invoking an [Asynchronous Inference Endpoint](https://docs.aws.amazon.com/sagemaker/latest/dg/async-inference.html) backed by the SVT-XT foundation model on Amazon SageMaker.\n",
    "\n",
    "This version of the Notebook passes an encoded image in the request payload used to invoke the model.\n",
    "\n",
    "![architecture diagram](architecture/async_inference_image_in_payload.png)"
   ]
  },
  {
   "cell_type": "markdown",
   "id": "1",
   "metadata": {},
   "source": [
    "## 2: Prepare the SVD-XT Model for Inference\n",
    "\n",
    "Steps to prepare the model for inference: 1/ Download the model artifacts from Hugging Face, 2/ add the custom inference script, 3/ create an archive file from the model artifacts, and 4/ upload the archive file to Amazon S3 for deployment.\n",
    "\n",
    "Alternately, for steps 2.2-2.4, below, if the model archive is already available from Amazon S3, see '2.2-2.4: Alternate Method if Model Already Exists in S3', below.\n"
   ]
  },
  {
   "cell_type": "markdown",
   "id": "2",
   "metadata": {},
   "source": [
    "### 2.1: Import Packages and Set SageMaker Variables"
   ]
  },
  {
   "cell_type": "markdown",
   "id": "3",
   "metadata": {},
   "source": [
    "Import all needed packages to make sure they installed correctly."
   ]
  },
  {
   "cell_type": "code",
   "execution_count": null,
   "id": "4",
   "metadata": {},
   "outputs": [],
   "source": [
    "import os\n",
    "import json\n",
    "import shutil\n",
    "\n",
    "import boto3\n",
    "from botocore.exceptions import ClientError\n",
    "\n",
    "import sagemaker\n",
    "from sagemaker.huggingface.model import HuggingFaceModel\n",
    "from sagemaker.async_inference.async_inference_config import AsyncInferenceConfig\n",
    "from sagemaker.s3 import s3_path_join\n",
    "\n",
    "from diffusers.utils import export_to_video, make_image_grid\n",
    "import ffmpeg"
   ]
  },
  {
   "cell_type": "code",
   "execution_count": null,
   "id": "5",
   "metadata": {},
   "outputs": [],
   "source": [
    "sm_session_bucket = None\n",
    "\n",
    "sm_session = sagemaker.Session()\n",
    "\n",
    "if sm_session_bucket is None and sm_session is not None:\n",
    "    # set to default bucket if a bucket name is not given\n",
    "    sm_session_bucket = sm_session.default_bucket()\n",
    "try:\n",
    "    sm_role = sagemaker.get_execution_role()\n",
    "except ValueError:\n",
    "    iam_client = boto3.client(\"iam\")\n",
    "    sm_role = iam_client.get_role(RoleName=\"sagemaker_execution_role\")[\"Role\"][\"Arn\"]"
   ]
  },
  {
   "cell_type": "code",
   "execution_count": null,
   "id": "6",
   "metadata": {},
   "outputs": [],
   "source": [
    "print(f\"sagemaker role arn: {sm_role}\")\n",
    "print(f\"sagemaker bucket: {sm_session.default_bucket()}\")\n",
    "print(f\"sagemaker session region: {sm_session.boto_region_name}\")"
   ]
  },
  {
   "cell_type": "markdown",
   "id": "7",
   "metadata": {},
   "source": [
    "## 3: Set Amazon SageMaker Endpoint\n",
    "\n",
    "If the model was previously deployed to an endpoint, set the `endpoint_name` variable.\n"
   ]
  },
  {
   "cell_type": "code",
   "execution_count": null,
   "id": "8",
   "metadata": {},
   "outputs": [],
   "source": [
    "endpoint_name = \"<YOUR_MODEL_ENDPOINT_NAME>\""
   ]
  },
  {
   "cell_type": "markdown",
   "id": "9",
   "metadata": {},
   "source": [
    "## 4: Choosing Conditioning Images and Inference Parameters"
   ]
  },
  {
   "cell_type": "markdown",
   "id": "10",
   "metadata": {},
   "source": [
    "### 4.1: Method for Encoding Conditioning Image"
   ]
  },
  {
   "cell_type": "code",
   "execution_count": null,
   "id": "11",
   "metadata": {},
   "outputs": [],
   "source": [
    "import json\n",
    "import base64\n",
    "\n",
    "\n",
    "def encode_image(image_path):\n",
    "    with open(image_path, \"rb\") as image_file:\n",
    "        return \"data:text/plain;base64,\" + base64.b64encode(image_file.read()).decode(\"utf-8\")\n",
    "\n",
    "def generate_request_payload(movie_title, data):\n",
    "    with open(f\"request_payloads/{movie_title}.json\", \"w\") as f:\n",
    "        json.dump(data, f)"
   ]
  },
  {
   "cell_type": "markdown",
   "id": "12",
   "metadata": {},
   "source": [
    "### 4.2 Set Movie Name and Inference Parameters\n",
    "\n",
    "Select one of the sets of inference parameters below and run that cell, or create your own set of parameters. Each variation creates a different video."
   ]
  },
  {
   "cell_type": "code",
   "execution_count": null,
   "id": "13",
   "metadata": {},
   "outputs": [],
   "source": [
    "data = {\n",
    "    \"image\": encode_image(\"images_scaled/rocket.png\"),\n",
    "    \"width\": 1024,\n",
    "    \"height\": 576,\n",
    "    \"num_frames\": 25,\n",
    "    \"num_inference_steps\": 25,\n",
    "    \"min_guidance_scale\": 1.0,\n",
    "    \"max_guidance_scale\": 3.0,\n",
    "    \"fps\": 6,\n",
    "    \"motion_bucket_id\": 127,\n",
    "    \"noise_aug_strength\": 0.02,\n",
    "    \"decode_chunk_size\": 8,\n",
    "    \"seed\": 42,\n",
    "}\n",
    "generate_request_payload(\"rocket_1.mp4\", data)"
   ]
  },
  {
   "cell_type": "code",
   "execution_count": null,
   "id": "14",
   "metadata": {},
   "outputs": [],
   "source": [
    "data = {\n",
    "    \"image\": encode_image(\"images_scaled/rocket.png\"),\n",
    "    \"width\": 1024,\n",
    "    \"height\": 576,\n",
    "    \"num_frames\": 25,\n",
    "    \"num_inference_steps\": 25,\n",
    "    \"min_guidance_scale\": 1.0,\n",
    "    \"max_guidance_scale\": 3.0,\n",
    "    \"fps\": 6,\n",
    "    \"motion_bucket_id\": 180,\n",
    "    \"noise_aug_strength\": 0.02,\n",
    "    \"decode_chunk_size\": 8,\n",
    "    \"seed\": 42,\n",
    "}\n",
    "generate_request_payload(\"rocket_2.mp4\", data)"
   ]
  },
  {
   "cell_type": "code",
   "execution_count": null,
   "id": "15",
   "metadata": {},
   "outputs": [],
   "source": [
    "data = {\n",
    "    \"image\": encode_image(\"images_scaled/smoke.jpg\"),\n",
    "    \"width\": 576,\n",
    "    \"height\": 1024,\n",
    "    \"num_frames\": 25,\n",
    "    \"num_inference_steps\": 50,\n",
    "    \"min_guidance_scale\": 0.5,\n",
    "    \"max_guidance_scale\": 1.0,\n",
    "    \"fps\": 6,\n",
    "    \"motion_bucket_id\": 25,\n",
    "    \"noise_aug_strength\": 0.8,\n",
    "    \"decode_chunk_size\": 8,\n",
    "    \"seed\": 111142,\n",
    "}\n",
    "generate_request_payload(\"smoke.mp4\", data)"
   ]
  },
  {
   "cell_type": "code",
   "execution_count": null,
   "id": "16",
   "metadata": {},
   "outputs": [],
   "source": [
    "data = {\n",
    "    \"image\": encode_image(\"images_scaled/colored_smoke.jpg\"),\n",
    "    \"width\": 576,\n",
    "    \"height\": 1024,\n",
    "    \"num_frames\": 25,\n",
    "    \"num_inference_steps\": 50,\n",
    "    \"min_guidance_scale\": 0.5,\n",
    "    \"max_guidance_scale\": 1.0,\n",
    "    \"fps\": 6,\n",
    "    \"motion_bucket_id\": 25,\n",
    "    \"noise_aug_strength\": 0.8,\n",
    "    \"decode_chunk_size\": 8,\n",
    "    \"seed\": 111142,\n",
    "}\n",
    "generate_request_payload(\"colored_smoke.mp4\", data)"
   ]
  },
  {
   "cell_type": "code",
   "execution_count": null,
   "id": "17",
   "metadata": {},
   "outputs": [],
   "source": [
    "data = {\n",
    "    \"image\": encode_image(\"images_scaled/beach_bike.jpg\"),\n",
    "    \"width\": 1024,\n",
    "    \"height\": 576,\n",
    "    \"num_frames\": 25,\n",
    "    \"num_inference_steps\": 25,\n",
    "    \"min_guidance_scale\": 1.0,\n",
    "    \"max_guidance_scale\": 3.0,\n",
    "    \"fps\": 6,\n",
    "    \"motion_bucket_id\": 127,\n",
    "    \"noise_aug_strength\": 0.02,\n",
    "    \"decode_chunk_size\": 8,\n",
    "    \"seed\": 1234567890,\n",
    "}\n",
    "generate_request_payload(\"beach_bike.mp4\", data)"
   ]
  },
  {
   "cell_type": "code",
   "execution_count": null,
   "id": "18",
   "metadata": {},
   "outputs": [],
   "source": [
    "data = {\n",
    "    \"image\": encode_image(\"images_scaled/beach_bike.jpg\"),\n",
    "    \"width\": 1024,\n",
    "    \"height\": 576,\n",
    "    \"num_frames\": 25,\n",
    "    \"num_inference_steps\": 25,\n",
    "    \"min_guidance_scale\": 1.0,\n",
    "    \"max_guidance_scale\": 3.0,\n",
    "    \"fps\": 6,\n",
    "    \"motion_bucket_id\": 127,\n",
    "    \"noise_aug_strength\": 0.02,\n",
    "    \"decode_chunk_size\": 8,\n",
    "    \"seed\": 123,\n",
    "}\n",
    "generate_request_payload(\"beach_bike_2.mp4\", data)"
   ]
  },
  {
   "cell_type": "code",
   "execution_count": null,
   "id": "19",
   "metadata": {},
   "outputs": [],
   "source": [
    "data = {\n",
    "    \"image\": encode_image(\"images_scaled/waterfall.jpg\"),\n",
    "    \"width\": 1024,\n",
    "    \"height\": 576,\n",
    "    \"num_frames\": 25,\n",
    "    \"num_inference_steps\": 25,\n",
    "    \"min_guidance_scale\": 1.0,\n",
    "    \"max_guidance_scale\": 3.0,\n",
    "    \"fps\": 6,\n",
    "    \"motion_bucket_id\": 127,\n",
    "    \"noise_aug_strength\": 0.02,\n",
    "    \"decode_chunk_size\": 8,\n",
    "    \"seed\": 1234567890,\n",
    "}\n",
    "generate_request_payload(\"waterfall.mp4\", data)"
   ]
  },
  {
   "cell_type": "code",
   "execution_count": null,
   "id": "20",
   "metadata": {},
   "outputs": [],
   "source": [
    "data = {\n",
    "    \"image\": encode_image(\"images_scaled/boat_ocean.jpg\"),\n",
    "    \"width\": 1024,\n",
    "    \"height\": 576,\n",
    "    \"num_frames\": 25,\n",
    "    \"num_inference_steps\": 25,\n",
    "    \"min_guidance_scale\": 1.0,\n",
    "    \"max_guidance_scale\": 3.0,\n",
    "    \"fps\": 6,\n",
    "    \"motion_bucket_id\": 127,\n",
    "    \"noise_aug_strength\": 0.02,\n",
    "    \"decode_chunk_size\": 8,\n",
    "    \"seed\": 42,\n",
    "}\n",
    "generate_request_payload(\"boat_ocean.mp4\", data)"
   ]
  },
  {
   "cell_type": "code",
   "execution_count": null,
   "id": "21",
   "metadata": {},
   "outputs": [],
   "source": [
    "data = {\n",
    "    \"image\": encode_image(\"images_scaled/red_car.jpg\"),\n",
    "    \"width\": 1024,\n",
    "    \"height\": 576,\n",
    "    \"num_frames\": 25,\n",
    "    \"num_inference_steps\": 25,\n",
    "    \"min_guidance_scale\": 1.0,\n",
    "    \"max_guidance_scale\": 3.0,\n",
    "    \"fps\": 6,\n",
    "    \"motion_bucket_id\": 127,\n",
    "    \"noise_aug_strength\": 0.02,\n",
    "    \"decode_chunk_size\": 8,\n",
    "    \"seed\": 42,\n",
    "}\n",
    "generate_request_payload(\"red_car.mp4\", data)"
   ]
  },
  {
   "cell_type": "code",
   "execution_count": null,
   "id": "22",
   "metadata": {},
   "outputs": [],
   "source": [
    "data = {\n",
    "    \"image\": encode_image(\"images_scaled/coffee_stream.jpg\"),\n",
    "    \"width\": 576,\n",
    "    \"height\": 1024,\n",
    "    \"num_frames\": 25,\n",
    "    \"num_inference_steps\": 25,\n",
    "    \"min_guidance_scale\": 1.0,\n",
    "    \"max_guidance_scale\": 3.0,\n",
    "    \"fps\": 6,\n",
    "    \"motion_bucket_id\": 127,\n",
    "    \"noise_aug_strength\": 0.02,\n",
    "    \"decode_chunk_size\": 8,\n",
    "    \"seed\": 42,\n",
    "}\n",
    "generate_request_payload(\"coffee_stream.mp4\", data)"
   ]
  },
  {
   "cell_type": "code",
   "execution_count": null,
   "id": "23",
   "metadata": {},
   "outputs": [],
   "source": [
    "data = {\n",
    "    \"image\": encode_image(\"images_scaled/koi.jpg\"),\n",
    "    \"width\": 1024,\n",
    "    \"height\": 576,\n",
    "    \"num_frames\": 25,\n",
    "    \"num_inference_steps\": 25,\n",
    "    \"min_guidance_scale\": 1.0,\n",
    "    \"max_guidance_scale\": 3.0,\n",
    "    \"fps\": 6,\n",
    "    \"motion_bucket_id\": 127,\n",
    "    \"noise_aug_strength\": 0.02,\n",
    "    \"decode_chunk_size\": 8,\n",
    "    \"seed\": 9288258982,\n",
    "}\n",
    "generate_request_payload(\"koi.mp4\", data)"
   ]
  },
  {
   "cell_type": "code",
   "execution_count": null,
   "id": "24",
   "metadata": {},
   "outputs": [],
   "source": [
    "data = {\n",
    "    \"image\": encode_image(\"images_scaled/champagne2.jpg\"),\n",
    "    \"width\": 576,\n",
    "    \"height\": 1024,\n",
    "    \"num_frames\": 25,\n",
    "    \"num_inference_steps\": 25,\n",
    "    \"min_guidance_scale\": 1.0,\n",
    "    \"max_guidance_scale\": 3.0,\n",
    "    \"fps\": 6,\n",
    "    \"motion_bucket_id\": 127,\n",
    "    \"noise_aug_strength\": 0.02,\n",
    "    \"decode_chunk_size\": 8,\n",
    "    \"seed\": 42,\n",
    "}\n",
    "generate_request_payload(\"champagne2.mp4\", data)"
   ]
  },
  {
   "cell_type": "markdown",
   "id": "25",
   "metadata": {},
   "source": [
    "## 5: Upload Request Payload and Invoke Endpoint\n"
   ]
  },
  {
   "cell_type": "markdown",
   "id": "26",
   "metadata": {},
   "source": [
    "## 5.1: Upload Request Payload and Invoke Endpoint\n",
    "\n",
    "Upload the JSON request payload to Amazon S3 and invoke the endpoint for inference. Invocation time for a video with 25 inference steps is about 2 minutes.\n"
   ]
  },
  {
   "cell_type": "code",
   "execution_count": null,
   "id": "27",
   "metadata": {},
   "outputs": [],
   "source": [
    "def upload_file(input_location):\n",
    "    return sm_session.upload_data(\n",
    "        input_location,\n",
    "        bucket=sm_session.default_bucket(),\n",
    "        key_prefix=\"async_inference/input\",\n",
    "        extra_args={\"ContentType\": \"application/json\"},\n",
    "    )"
   ]
  },
  {
   "cell_type": "code",
   "execution_count": null,
   "id": "28",
   "metadata": {},
   "outputs": [],
   "source": [
    "# select one of the previously generated request payload files\n",
    "file_name = \"request_payloads/red_car.json\"\n",
    "\n",
    "# ... and upload it to S3\n",
    "input_s3_location = upload_file(file_name)\n",
    "print(f\"Request payload location: {input_s3_location}\")"
   ]
  },
  {
   "cell_type": "code",
   "execution_count": null,
   "id": "29",
   "metadata": {},
   "outputs": [],
   "source": [
    "sm_runtime_client = boto3.client(\"sagemaker-runtime\")\n",
    "\n",
    "response = sm_runtime_client.invoke_endpoint_async(\n",
    "    EndpointName=endpoint_name,\n",
    "    InputLocation=input_s3_location,\n",
    "    InvocationTimeoutSeconds=3600,\n",
    ")\n",
    "print(f\"Model response payload location: {response['OutputLocation']}\")"
   ]
  },
  {
   "cell_type": "markdown",
   "id": "30",
   "metadata": {},
   "source": [
    "### 5.2: Poll for Model Response\n",
    "\n",
    "Poll the Amazon S3 bucket for a response from the model invocation.\n"
   ]
  },
  {
   "cell_type": "code",
   "execution_count": null,
   "id": "31",
   "metadata": {},
   "outputs": [],
   "source": [
    "import urllib\n",
    "import time\n",
    "\n",
    "\n",
    "# function reference: https://github.com/aws/amazon-sagemaker-examples/blob/main/async-inference/Async-Inference-Walkthrough-SageMaker-Python-SDK.ipynb\n",
    "def get_output(output_location):\n",
    "    output_url = urllib.parse.urlparse(output_location)\n",
    "    bucket = output_url.netloc\n",
    "    key = output_url.path[1:]\n",
    "    while True:\n",
    "        try:\n",
    "            return sm_session.read_s3_file(bucket=bucket, key_prefix=key)\n",
    "        except ClientError as e:\n",
    "            if e.response[\"Error\"][\"Code\"] == \"NoSuchKey\":\n",
    "                print(\"Waiting for model output...\")\n",
    "                time.sleep(15)\n",
    "                continue\n",
    "            raise"
   ]
  },
  {
   "cell_type": "code",
   "execution_count": null,
   "id": "32",
   "metadata": {},
   "outputs": [],
   "source": [
    "%%time\n",
    "\n",
    "output = get_output(response[\"OutputLocation\"])\n",
    "print(f\"Sample of output: {output[:500]}\")"
   ]
  },
  {
   "cell_type": "markdown",
   "id": "33",
   "metadata": {},
   "source": [
    "## 6: Frames to MP4 Video"
   ]
  },
  {
   "cell_type": "markdown",
   "id": "34",
   "metadata": {},
   "source": [
    "### 6.1: Frames to MP4 Video\n",
    "\n",
    "Convert binary objects in response to JPEGs of each frame, then combined into MP4 using Hugging Face's `diffusers.utils.export_to_video` method.\n"
   ]
  },
  {
   "cell_type": "code",
   "execution_count": null,
   "id": "35",
   "metadata": {},
   "outputs": [],
   "source": [
    "import base64\n",
    "from PIL import Image\n",
    "from diffusers.utils import export_to_video, make_image_grid\n",
    "\n",
    "\n",
    "def load_video_frames(video_frames):\n",
    "    loaded_video_frames = []\n",
    "\n",
    "    for idx, video_frame in enumerate(video_frames):\n",
    "        frame = bytes(video_frame, \"raw_unicode_escape\")\n",
    "        frame_name = f\"frames_out/frame_{idx+1:02}.jpg\"\n",
    "        with open(frame_name, \"wb\") as fh:\n",
    "            fh.write(base64.decodebytes(frame))\n",
    "\n",
    "        image = Image.open(frame_name, mode=\"r\")\n",
    "        loaded_video_frames.append(image)\n",
    "\n",
    "    return loaded_video_frames"
   ]
  },
  {
   "cell_type": "code",
   "execution_count": null,
   "id": "36",
   "metadata": {},
   "outputs": [],
   "source": [
    "output = get_output(response[\"OutputLocation\"])\n",
    "data = json.loads(output)\n",
    "frames = data[\"frames\"]\n",
    "movie_title = data[\"movie_title\"]\n",
    "\n",
    "loaded_video_frames = load_video_frames()\n",
    "\n",
    "export_to_video(loaded_video_frames, f\"video_out/{movie_title}\", fps=6)\n",
    "print(f\"Video created: {movie_title}\")"
   ]
  },
  {
   "cell_type": "markdown",
   "id": "37",
   "metadata": {},
   "source": [
    "### 6.2: Display Frames as Grid\n",
    "\n",
    "Display the 25 frames as a 5x5 grid using Hugging Face's `diffusers.utils.make_image_grid` method.\n"
   ]
  },
  {
   "cell_type": "code",
   "execution_count": null,
   "id": "38",
   "metadata": {},
   "outputs": [],
   "source": [
    "from diffusers.utils import make_image_grid\n",
    "\n",
    "image = make_image_grid(loaded_video_frames, 5, 5)\n",
    "(width, height) = (image.width // 2, image.height // 2)\n",
    "im_resized = image.resize((width, height))\n",
    "display(im_resized)\n",
    "im_resized.save(\"frames.png\")"
   ]
  },
  {
   "cell_type": "markdown",
   "id": "39",
   "metadata": {},
   "source": [
    "### 6.3: Display Video\n",
    "\n",
    "Convert video CODEC to H.264 and display in notebook at 50% of actual size.\n"
   ]
  },
  {
   "cell_type": "code",
   "execution_count": null,
   "id": "40",
   "metadata": {},
   "outputs": [],
   "source": [
    "import ffmpeg\n",
    "\n",
    "output_options = {\n",
    "    \"crf\": 20,\n",
    "    \"preset\": \"slower\",\n",
    "    \"movflags\": \"faststart\",\n",
    "    \"pix_fmt\": \"yuv420p\",\n",
    "    \"vcodec\": \"libx264\",\n",
    "}\n",
    "\n",
    "\n",
    "ffmpeg.input(f\"video_out/{movie_title}\")\n",
    "    .output(\"video_out/tmp.mp4\", **output_options)\n",
    "    .run(overwrite_output=True, quiet=True)\n"
   ]
  },
  {
   "cell_type": "code",
   "execution_count": null,
   "id": "41",
   "metadata": {},
   "outputs": [],
   "source": [
    "from IPython.display import Video\n",
    "\n",
    "Video(\n",
    "    url=\"video_out/tmp.mp4\",\n",
    "    width=(loaded_video_frames[0].width // 2),\n",
    "    html_attributes=\"controls muted autoplay loop\",\n",
    ")"
   ]
  },
  {
   "cell_type": "markdown",
   "id": "42",
   "metadata": {},
   "source": [
    "## 7: Generating of Multiple Video Variations\n",
    "\n",
    "Generating multiple videos variations by combining the above code in a loop. In this example we are creating five variations, changing the seed each time.\n"
   ]
  },
  {
   "cell_type": "code",
   "execution_count": null,
   "id": "43",
   "metadata": {},
   "outputs": [],
   "source": [
    "import random\n",
    "import json\n",
    "\n",
    "sm_runtime_client = boto3.client(\"sagemaker-runtime\")\n",
    "\n",
    "for i in range(3):\n",
    "    seed = random.randrange(1, 9999999999)\n",
    "    data = {\n",
    "        \"image\": encode_image(\"images_scaled/red_car.jpg\"),\n",
    "        \"width\": 1024,\n",
    "        \"height\": 576,\n",
    "        \"num_frames\": 25,\n",
    "        \"num_inference_steps\": 25,\n",
    "        \"min_guidance_scale\": 1.0,\n",
    "        \"max_guidance_scale\": 3.0,\n",
    "        \"fps\": 6,\n",
    "        \"motion_bucket_id\": 127,\n",
    "        \"noise_aug_strength\": 0.02,\n",
    "        \"decode_chunk_size\": 8,\n",
    "        \"seed\": seed,\n",
    "    }\n",
    "    filename = f\"red_car_{seed}.mp4\"\n",
    "    generate_request_payload(filename, data)\n",
    "    input_s3_location = upload_file(file_name)\n",
    "\n",
    "    response = sm_runtime_client.invoke_endpoint_async(\n",
    "        EndpointName=endpoint_name,\n",
    "        InputLocation=input_s3_location,\n",
    "        InvocationTimeoutSeconds=3600,\n",
    "    )\n",
    "\n",
    "    output = get_output(response[\"OutputLocation\"])\n",
    "    data = json.loads(output)\n",
    "    loaded_video_frames = load_video_frames(data[\"frames\"])\n",
    "\n",
    "    export_to_video(loaded_video_frames, f\"video_out/{movie_title}\", fps=6)\n",
    "    print(f\"Video created: {movie_title}\")"
   ]
  },
  {
   "cell_type": "markdown",
   "id": "44",
   "metadata": {},
   "source": [
    "## 8: Delete Amazon SageMaker Endpoint\n"
   ]
  },
  {
   "cell_type": "code",
   "execution_count": null,
   "id": "45",
   "metadata": {},
   "outputs": [],
   "source": [
    "client_sm = boto3.client(\"sagemaker\")\n",
    "client_sm.delete_endpoint(EndpointName=endpoint_name)"
   ]
  }
 ],
 "metadata": {
  "kernelspec": {
   "display_name": "Python 3 (ipykernel)",
   "language": "python",
   "name": "python3"
  },
  "language_info": {
   "codemirror_mode": {
    "name": "ipython",
    "version": 3
   },
   "file_extension": ".py",
   "mimetype": "text/x-python",
   "name": "python",
   "nbconvert_exporter": "python",
   "pygments_lexer": "ipython3",
   "version": "3.12.4"
  }
 },
 "nbformat": 4,
 "nbformat_minor": 5
}
