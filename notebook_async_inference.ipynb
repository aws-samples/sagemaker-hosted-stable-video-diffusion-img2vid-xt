{
 "cells": [
  {
   "cell_type": "markdown",
   "id": "0",
   "metadata": {},
   "source": [
    "# Stable Video Diffusion XT 1.1 on Amazon SageMaker\n",
    "\n",
    "Stability AI's [Stable Video Diffusion](https://stability.ai/stable-video) foundation model is a diffusion model that takes a single still image as conditioning frame and generates a short 4 second video with multiple frames.\n",
    "\n",
    "This notebook walks you through invoking an [Asynchronous Inference Endpoint](https://docs.aws.amazon.com/sagemaker/latest/dg/async-inference.html) on Amazon SageMaker using the SVD-XT-1.1 model by Stability AI.\n",
    "\n",
    "![architecture diagram](architecture/async_inference.png)"
   ]
  },
  {
   "cell_type": "markdown",
   "id": "1",
   "metadata": {},
   "source": [
    "## Import Packages and Set SageMaker Variables\n",
    "\n",
    "Import all needed packages to make sure they installed correctly."
   ]
  },
  {
   "cell_type": "code",
   "execution_count": null,
   "id": "2",
   "metadata": {},
   "outputs": [],
   "source": [
    "import os\n",
    "import json\n",
    "import shutil\n",
    "\n",
    "import boto3\n",
    "from botocore.exceptions import ClientError\n",
    "\n",
    "import sagemaker\n",
    "from sagemaker.huggingface.model import HuggingFaceModel\n",
    "from sagemaker.async_inference.async_inference_config import AsyncInferenceConfig\n",
    "from sagemaker.s3 import s3_path_join\n",
    "\n",
    "from diffusers.utils import export_to_video, make_image_grid\n",
    "import ffmpeg"
   ]
  },
  {
   "cell_type": "code",
   "execution_count": null,
   "id": "3",
   "metadata": {},
   "outputs": [],
   "source": [
    "sm_session_bucket = None\n",
    "\n",
    "sm_session = sagemaker.Session()\n",
    "\n",
    "if sm_session_bucket is None and sm_session is not None:\n",
    "    # set to default bucket if a bucket name is not given\n",
    "    sm_session_bucket = sm_session.default_bucket()\n",
    "\n",
    "try:\n",
    "    sm_role = sagemaker.get_execution_role()\n",
    "except ValueError:\n",
    "    iam_client = boto3.client(\"iam\")\n",
    "    sm_role = iam_client.get_role(RoleName=\"sagemaker_execution_role\")[\"Role\"][\"Arn\"]"
   ]
  },
  {
   "cell_type": "code",
   "execution_count": null,
   "id": "4",
   "metadata": {},
   "outputs": [],
   "source": [
    "print(f\"sagemaker role arn: {sm_role}\")\n",
    "print(f\"sagemaker bucket: {sm_session_bucket}\")\n",
    "print(f\"sagemaker session region: {sm_session.boto_region_name}\")"
   ]
  },
  {
   "cell_type": "markdown",
   "id": "5",
   "metadata": {},
   "source": [
    "## Choosing Conditioning Images and Inference Parameters"
   ]
  },
  {
   "cell_type": "markdown",
   "id": "6",
   "metadata": {},
   "source": [
    "### Method for Encoding Conditioning Image\n",
    "\n",
    "Use this to embed a base64-encoded image from a local file. Otherwise, simply pass the `https://...` URL directly."
   ]
  },
  {
   "cell_type": "code",
   "execution_count": null,
   "id": "7",
   "metadata": {},
   "outputs": [],
   "source": [
    "import json\n",
    "import base64\n",
    "\n",
    "\n",
    "def encode_image(image_path):\n",
    "    # encode as data URI with base64\n",
    "    with open(image_path, \"rb\") as image_file:\n",
    "        return \"data:text/plain;base64,\" + base64.b64encode(image_file.read()).decode(\"utf-8\")\n",
    "\n",
    "def generate_request_payload(data):\n",
    "    os.makedirs(\"tmp/request_payloads\", exist_ok=True)\n",
    "    movie_title = data[\"movie_title\"]\n",
    "    file_name = f\"tmp/request_payloads/{movie_title}.json\"\n",
    "    with open(file_name, \"w\") as f:\n",
    "        json.dump(data, f)\n",
    "    return file_name"
   ]
  },
  {
   "cell_type": "markdown",
   "id": "8",
   "metadata": {},
   "source": [
    "### Set Movie Name and Inference Parameters\n",
    "\n",
    "Select one of the sets of inference parameters below and run that cell, or create your own set of parameters. Each variation creates a different video.\n",
    "\n",
    "You can use the `encode_image(path_to_local_file)` function to embed an image from a local file.\n",
    "\n",
    "Alternatively, you can pass directly an `https://...` URL to a file available on the Internet, to be downloaded by the SageMaker endpoint during inference."
   ]
  },
  {
   "cell_type": "code",
   "execution_count": null,
   "id": "9",
   "metadata": {},
   "outputs": [],
   "source": [
    "generate_request_payload({\n",
    "    \"movie_title\": \"rocket_1\",\n",
    "    \"image\": encode_image(\"images_scaled/rocket.png\"),\n",
    "    \"width\": 1024,\n",
    "    \"height\": 576,\n",
    "    \"num_frames\": 25,\n",
    "    \"num_inference_steps\": 25,\n",
    "    \"min_guidance_scale\": 1.0,\n",
    "    \"max_guidance_scale\": 3.0,\n",
    "    \"fps\": 6,\n",
    "    \"motion_bucket_id\": 127,\n",
    "    \"noise_aug_strength\": 0.02,\n",
    "    \"decode_chunk_size\": 8,\n",
    "    \"seed\": 42,\n",
    "})"
   ]
  },
  {
   "cell_type": "code",
   "execution_count": null,
   "id": "10",
   "metadata": {},
   "outputs": [],
   "source": [
    "generate_request_payload({\n",
    "    \"movie_title\": \"rocket_2\",\n",
    "    \"image\": encode_image(\"images_scaled/rocket.png\"),\n",
    "    \"width\": 1024,\n",
    "    \"height\": 576,\n",
    "    \"num_frames\": 25,\n",
    "    \"num_inference_steps\": 25,\n",
    "    \"min_guidance_scale\": 1.0,\n",
    "    \"max_guidance_scale\": 3.0,\n",
    "    \"fps\": 6,\n",
    "    \"motion_bucket_id\": 180,\n",
    "    \"noise_aug_strength\": 0.02,\n",
    "    \"decode_chunk_size\": 8,\n",
    "    \"seed\": 42,\n",
    "})"
   ]
  },
  {
   "cell_type": "code",
   "execution_count": null,
   "id": "11",
   "metadata": {},
   "outputs": [],
   "source": [
    "generate_request_payload({\n",
    "    \"movie_title\": \"smoke\",\n",
    "    \"image\": \"https://raw.githubusercontent.com/aws-samples/sagemaker-hosted-stable-video-diffusion-img2vid-xt/main/images_scaled/smoke.jpg\",\n",
    "    \"width\": 576,\n",
    "    \"height\": 1024,\n",
    "    \"num_frames\": 25,\n",
    "    \"num_inference_steps\": 50,\n",
    "    \"min_guidance_scale\": 0.5,\n",
    "    \"max_guidance_scale\": 1.0,\n",
    "    \"fps\": 6,\n",
    "    \"motion_bucket_id\": 25,\n",
    "    \"noise_aug_strength\": 0.8,\n",
    "    \"decode_chunk_size\": 8,\n",
    "    \"seed\": 111142,\n",
    "})"
   ]
  },
  {
   "cell_type": "code",
   "execution_count": null,
   "id": "12",
   "metadata": {},
   "outputs": [],
   "source": [
    "generate_request_payload({\n",
    "    \"movie_title\": \"colored_smoke\",\n",
    "    \"image\": \"https://raw.githubusercontent.com/aws-samples/sagemaker-hosted-stable-video-diffusion-img2vid-xt/main/images_scaled/colored_smoke.jpg\",\n",
    "    \"width\": 576,\n",
    "    \"height\": 1024,\n",
    "    \"num_frames\": 25,\n",
    "    \"num_inference_steps\": 50,\n",
    "    \"min_guidance_scale\": 0.5,\n",
    "    \"max_guidance_scale\": 1.0,\n",
    "    \"fps\": 6,\n",
    "    \"motion_bucket_id\": 25,\n",
    "    \"noise_aug_strength\": 0.8,\n",
    "    \"decode_chunk_size\": 8,\n",
    "    \"seed\": 111142,\n",
    "})"
   ]
  },
  {
   "cell_type": "code",
   "execution_count": null,
   "id": "13",
   "metadata": {},
   "outputs": [],
   "source": [
    "generate_request_payload({\n",
    "    \"movie_title\": \"beach_bike_1\",\n",
    "    \"image\": encode_image(\"images_scaled/beach_bike.jpg\"),\n",
    "    \"width\": 1024,\n",
    "    \"height\": 576,\n",
    "    \"num_frames\": 25,\n",
    "    \"num_inference_steps\": 25,\n",
    "    \"min_guidance_scale\": 1.0,\n",
    "    \"max_guidance_scale\": 3.0,\n",
    "    \"fps\": 6,\n",
    "    \"motion_bucket_id\": 127,\n",
    "    \"noise_aug_strength\": 0.02,\n",
    "    \"decode_chunk_size\": 8,\n",
    "    \"seed\": 1234567890,\n",
    "})"
   ]
  },
  {
   "cell_type": "code",
   "execution_count": null,
   "id": "14",
   "metadata": {},
   "outputs": [],
   "source": [
    "generate_request_payload({\n",
    "    \"movie_title\": \"beach_bike_2\",\n",
    "    \"image\": encode_image(\"images_scaled/beach_bike.jpg\"),\n",
    "    \"width\": 1024,\n",
    "    \"height\": 576,\n",
    "    \"num_frames\": 25,\n",
    "    \"num_inference_steps\": 25,\n",
    "    \"min_guidance_scale\": 1.0,\n",
    "    \"max_guidance_scale\": 3.0,\n",
    "    \"fps\": 6,\n",
    "    \"motion_bucket_id\": 127,\n",
    "    \"noise_aug_strength\": 0.02,\n",
    "    \"decode_chunk_size\": 8,\n",
    "    \"seed\": 123,\n",
    "})"
   ]
  },
  {
   "cell_type": "code",
   "execution_count": null,
   "id": "15",
   "metadata": {},
   "outputs": [],
   "source": [
    "generate_request_payload({\n",
    "    \"movie_title\": \"waterfall\",\n",
    "    \"image\": encode_image(\"images_scaled/waterfall.jpg\"),\n",
    "    \"width\": 1024,\n",
    "    \"height\": 576,\n",
    "    \"num_frames\": 25,\n",
    "    \"num_inference_steps\": 25,\n",
    "    \"min_guidance_scale\": 1.0,\n",
    "    \"max_guidance_scale\": 3.0,\n",
    "    \"fps\": 6,\n",
    "    \"motion_bucket_id\": 127,\n",
    "    \"noise_aug_strength\": 0.02,\n",
    "    \"decode_chunk_size\": 8,\n",
    "    \"seed\": 1234567890,\n",
    "})"
   ]
  },
  {
   "cell_type": "code",
   "execution_count": null,
   "id": "16",
   "metadata": {},
   "outputs": [],
   "source": [
    "generate_request_payload({\n",
    "    \"movie_title\": \"boat_ocean\",\n",
    "    \"image\": encode_image(\"images_scaled/boat_ocean.jpg\"),\n",
    "    \"width\": 1024,\n",
    "    \"height\": 576,\n",
    "    \"num_frames\": 25,\n",
    "    \"num_inference_steps\": 25,\n",
    "    \"min_guidance_scale\": 1.0,\n",
    "    \"max_guidance_scale\": 3.0,\n",
    "    \"fps\": 6,\n",
    "    \"motion_bucket_id\": 127,\n",
    "    \"noise_aug_strength\": 0.02,\n",
    "    \"decode_chunk_size\": 8,\n",
    "    \"seed\": 42,\n",
    "})"
   ]
  },
  {
   "cell_type": "code",
   "execution_count": null,
   "id": "17",
   "metadata": {},
   "outputs": [],
   "source": [
    "generate_request_payload({\n",
    "    \"movie_title\": \"red_car\",\n",
    "    \"image\": encode_image(\"images_scaled/red_car.jpg\"),\n",
    "    \"width\": 1024,\n",
    "    \"height\": 576,\n",
    "    \"num_frames\": 25,\n",
    "    \"num_inference_steps\": 25,\n",
    "    \"min_guidance_scale\": 1.0,\n",
    "    \"max_guidance_scale\": 3.0,\n",
    "    \"fps\": 6,\n",
    "    \"motion_bucket_id\": 127,\n",
    "    \"noise_aug_strength\": 0.02,\n",
    "    \"decode_chunk_size\": 8,\n",
    "    \"seed\": 42,\n",
    "})"
   ]
  },
  {
   "cell_type": "code",
   "execution_count": null,
   "id": "18",
   "metadata": {},
   "outputs": [],
   "source": [
    "generate_request_payload({\n",
    "    \"movie_title\": \"coffee_stream\",\n",
    "    \"image\": encode_image(\"images_scaled/coffee_stream.jpg\"),\n",
    "    \"width\": 576,\n",
    "    \"height\": 1024,\n",
    "    \"num_frames\": 25,\n",
    "    \"num_inference_steps\": 25,\n",
    "    \"min_guidance_scale\": 1.0,\n",
    "    \"max_guidance_scale\": 3.0,\n",
    "    \"fps\": 6,\n",
    "    \"motion_bucket_id\": 127,\n",
    "    \"noise_aug_strength\": 0.02,\n",
    "    \"decode_chunk_size\": 8,\n",
    "    \"seed\": 42,\n",
    "})"
   ]
  },
  {
   "cell_type": "code",
   "execution_count": null,
   "id": "19",
   "metadata": {},
   "outputs": [],
   "source": [
    "generate_request_payload({\n",
    "    \"movie_title\": \"koi\",\n",
    "    \"image\": encode_image(\"images_scaled/koi.jpg\"),\n",
    "    \"width\": 1024,\n",
    "    \"height\": 576,\n",
    "    \"num_frames\": 25,\n",
    "    \"num_inference_steps\": 25,\n",
    "    \"min_guidance_scale\": 1.0,\n",
    "    \"max_guidance_scale\": 3.0,\n",
    "    \"fps\": 6,\n",
    "    \"motion_bucket_id\": 127,\n",
    "    \"noise_aug_strength\": 0.02,\n",
    "    \"decode_chunk_size\": 8,\n",
    "    \"seed\": 9288258982,\n",
    "})"
   ]
  },
  {
   "cell_type": "code",
   "execution_count": null,
   "id": "20",
   "metadata": {},
   "outputs": [],
   "source": [
    "generate_request_payload({\n",
    "    \"movie_title\": \"champagne2\",\n",
    "    \"image\": encode_image(\"images_scaled/champagne2.jpg\"),\n",
    "    \"width\": 576,\n",
    "    \"height\": 1024,\n",
    "    \"num_frames\": 25,\n",
    "    \"num_inference_steps\": 25,\n",
    "    \"min_guidance_scale\": 1.0,\n",
    "    \"max_guidance_scale\": 3.0,\n",
    "    \"fps\": 6,\n",
    "    \"motion_bucket_id\": 127,\n",
    "    \"noise_aug_strength\": 0.02,\n",
    "    \"decode_chunk_size\": 8,\n",
    "    \"seed\": 42,\n",
    "})"
   ]
  },
  {
   "cell_type": "markdown",
   "id": "21",
   "metadata": {},
   "source": [
    "## Upload Request Payload and Invoke Endpoint\n",
    "\n",
    "Upload the JSON request payload to Amazon S3 and invoke the endpoint for inference. Invocation time for a video with 25 inference steps is about 2 minutes.\n"
   ]
  },
  {
   "cell_type": "code",
   "execution_count": null,
   "id": "22",
   "metadata": {},
   "outputs": [],
   "source": [
    "def upload_file(input_location):\n",
    "    return sm_session.upload_data(\n",
    "        input_location,\n",
    "        bucket=sm_session_bucket,\n",
    "        key_prefix=\"async_inference/input\",\n",
    "        extra_args={\"ContentType\": \"application/json\"},\n",
    "    )\n",
    "\n",
    "# select one of the previously generated request payload files\n",
    "file_name = \"tmp/request_payloads/red_car.json\"\n",
    "\n",
    "# ... and upload it to S3\n",
    "input_s3_location = upload_file(file_name)\n",
    "print(f\"Request payload location: {input_s3_location}\")"
   ]
  },
  {
   "cell_type": "markdown",
   "id": "23",
   "metadata": {},
   "source": [
    "## Invoke the deployed Amazon SageMaker Endpoint\n",
    "\n",
    "If the model was previously deployed to an endpoint, set the `endpoint_name` variable."
   ]
  },
  {
   "cell_type": "code",
   "execution_count": null,
   "id": "24",
   "metadata": {},
   "outputs": [],
   "source": [
    "# read endpoint name from local config file\n",
    "with open(\"deployed_endpoint_name.txt\", \"r\") as f:\n",
    "    endpoint_name = f.read().strip()\n",
    "\n",
    "# or set manually\n",
    "# endpoint_name = \"<YOUR_MODEL_ENDPOINT_NAME>\"\n",
    "\n",
    "print(f\"Using SageMaker endpoint: {endpoint_name}\")"
   ]
  },
  {
   "cell_type": "markdown",
   "id": "25",
   "metadata": {},
   "source": [
    "Invoke the model asynchronously using the uploaded request JSON file from S3."
   ]
  },
  {
   "cell_type": "code",
   "execution_count": null,
   "id": "26",
   "metadata": {},
   "outputs": [],
   "source": [
    "sm_runtime_client = boto3.client(\"sagemaker-runtime\")\n",
    "\n",
    "invoke_response = sm_runtime_client.invoke_endpoint_async(\n",
    "    EndpointName=endpoint_name,\n",
    "    InputLocation=input_s3_location,\n",
    "    InvocationTimeoutSeconds=3600,\n",
    ")\n",
    "print(f\"Model invocation response payload: {invoke_response}\")"
   ]
  },
  {
   "cell_type": "markdown",
   "id": "27",
   "metadata": {},
   "source": [
    "### Wait and Poll for Model Response\n",
    "\n",
    "Poll the Amazon S3 bucket for a response from the model invocation.\n"
   ]
  },
  {
   "cell_type": "code",
   "execution_count": null,
   "id": "28",
   "metadata": {},
   "outputs": [],
   "source": [
    "import urllib\n",
    "import time\n",
    "\n",
    "\n",
    "# function reference:\n",
    "# https://github.com/aws/amazon-sagemaker-examples/blob/main/async-inference/Async-Inference-Walkthrough-SageMaker-Python-SDK.ipynb\n",
    "def get_output(invoke_response):\n",
    "    output_location = invoke_response[\"OutputLocation\"]\n",
    "    failure_location = invoke_response[\"FailureLocation\"]\n",
    "\n",
    "    output_url = urllib.parse.urlparse(output_location)\n",
    "    bucket = output_url.netloc\n",
    "    key = output_url.path[1:]\n",
    "\n",
    "    failure_url = urllib.parse.urlparse(failure_location)\n",
    "    failure_bucket = failure_url.netloc\n",
    "    failure_key = failure_url.path[1:]\n",
    "\n",
    "    while True:\n",
    "        try:\n",
    "            return sm_session.read_s3_file(bucket=bucket, key_prefix=key)\n",
    "        except ClientError as e:\n",
    "            if e.response[\"Error\"][\"Code\"] == \"NoSuchKey\":\n",
    "                print(\"Waiting for model output...\")\n",
    "                try:\n",
    "                    f = sm_session.read_s3_file(bucket=failure_bucket, key_prefix=failure_key)\n",
    "                    print(\"Invocation failed:\", f)\n",
    "                    return\n",
    "                except Exception as e2:\n",
    "                    pass\n",
    "                time.sleep(15)\n",
    "                continue\n",
    "            raise"
   ]
  },
  {
   "cell_type": "code",
   "execution_count": null,
   "id": "29",
   "metadata": {},
   "outputs": [],
   "source": [
    "%%time\n",
    "\n",
    "output = get_output(invoke_response)\n",
    "print(f\"Sample of output: {output[:500]}\")"
   ]
  },
  {
   "cell_type": "markdown",
   "id": "30",
   "metadata": {},
   "source": [
    "## Frames to MP4 Video"
   ]
  },
  {
   "cell_type": "markdown",
   "id": "31",
   "metadata": {},
   "source": [
    "### Frames to MP4 Video\n",
    "\n",
    "Convert binary objects in response to JPEGs of each frame, then combine then into MP4 using Hugging Face's `diffusers.utils.export_to_video` method.\n"
   ]
  },
  {
   "cell_type": "code",
   "execution_count": null,
   "id": "32",
   "metadata": {},
   "outputs": [],
   "source": [
    "import os\n",
    "import base64\n",
    "from PIL import Image\n",
    "from diffusers.utils import export_to_video\n",
    "\n",
    "\n",
    "def load_video_frames(video_frames):\n",
    "    loaded_video_frames = []\n",
    "    os.makedirs(\"tmp/frames_out\", exist_ok=True)\n",
    "\n",
    "    for idx, video_frame in enumerate(video_frames):\n",
    "        frame = bytes(video_frame, \"raw_unicode_escape\")\n",
    "        frame_name = f\"tmp/frames_out/frame_{idx+1:02}.jpg\"\n",
    "        with open(frame_name, \"wb\") as fh:\n",
    "            fh.write(base64.decodebytes(frame))\n",
    "\n",
    "        image = Image.open(frame_name, mode=\"r\")\n",
    "        loaded_video_frames.append(image)\n",
    "\n",
    "    return loaded_video_frames"
   ]
  },
  {
   "cell_type": "code",
   "execution_count": null,
   "id": "33",
   "metadata": {},
   "outputs": [],
   "source": [
    "output = get_output(invoke_response)\n",
    "data = json.loads(output)\n",
    "frames = data[\"frames\"]\n",
    "movie_title = data[\"config\"][\"movie_title\"]\n",
    "fps = data[\"config\"][\"fps\"]\n",
    "\n",
    "loaded_video_frames = load_video_frames(frames)\n",
    "\n",
    "os.makedirs(\"tmp/video_out\", exist_ok=True)\n",
    "export_to_video(loaded_video_frames, f\"tmp/video_out/{movie_title}.mp4\", fps=fps)\n",
    "print(f\"Video created: {movie_title}.mp4\")"
   ]
  },
  {
   "cell_type": "markdown",
   "id": "34",
   "metadata": {},
   "source": [
    "### Display Frames as Grid\n",
    "\n",
    "Display the 25 frames as a 5x5 grid using Hugging Face's `diffusers.utils.make_image_grid` method.\n"
   ]
  },
  {
   "cell_type": "code",
   "execution_count": null,
   "id": "35",
   "metadata": {},
   "outputs": [],
   "source": [
    "from diffusers.utils import make_image_grid\n",
    "\n",
    "image = make_image_grid(loaded_video_frames, 5, 5)\n",
    "(width, height) = (image.width // 2, image.height // 2)\n",
    "im_resized = image.resize((width, height))\n",
    "display(im_resized)\n",
    "im_resized.save(\"frames.png\")"
   ]
  },
  {
   "cell_type": "markdown",
   "id": "36",
   "metadata": {},
   "source": [
    "### Display Video\n",
    "\n",
    "Convert video CODEC to H.264 and display in notebook at 50% of actual size.\n"
   ]
  },
  {
   "cell_type": "code",
   "execution_count": null,
   "id": "37",
   "metadata": {},
   "outputs": [],
   "source": [
    "import ffmpeg\n",
    "from IPython.display import Video\n",
    "\n",
    "output_options = {\n",
    "    \"crf\": 20,\n",
    "    \"preset\": \"slower\",\n",
    "    \"movflags\": \"faststart\",\n",
    "    \"pix_fmt\": \"yuv420p\",\n",
    "    \"vcodec\": \"libx264\",\n",
    "}\n",
    "\n",
    "ffmpeg.input(f\"tmp/video_out/{movie_title}.mp4\").output(\"tmp/video_out/tmp.mp4\", **output_options).run(overwrite_output=True, quiet=True)\n",
    "\n",
    "Video(\n",
    "    url=\"tmp/video_out/tmp.mp4\",\n",
    "    width=(loaded_video_frames[0].width // 2),\n",
    "    html_attributes=\"controls muted autoplay loop\",\n",
    ")"
   ]
  },
  {
   "cell_type": "markdown",
   "id": "38",
   "metadata": {},
   "source": [
    "## Generating of Multiple Video Variations\n",
    "\n",
    "Generating multiple videos variations by combining the above code in a loop. In this example we are creating five variations, changing the seed each time.\n"
   ]
  },
  {
   "cell_type": "code",
   "execution_count": null,
   "id": "39",
   "metadata": {},
   "outputs": [],
   "source": [
    "import random\n",
    "import json\n",
    "from diffusers.utils import export_to_video\n",
    "\n",
    "sm_runtime_client = boto3.client(\"sagemaker-runtime\")\n",
    "\n",
    "for i in range(3):\n",
    "    seed = random.randrange(1, 9999999999)\n",
    "    movie_title = f\"red_car_{seed}\"\n",
    "    data = {\n",
    "        \"movie_title\": movie_title,\n",
    "        \"image\": encode_image(\"images_scaled/red_car.jpg\"),\n",
    "        \"width\": 1024,\n",
    "        \"height\": 576,\n",
    "        \"num_frames\": 25,\n",
    "        \"num_inference_steps\": 25,\n",
    "        \"min_guidance_scale\": 1.0,\n",
    "        \"max_guidance_scale\": 3.0,\n",
    "        \"fps\": 6,\n",
    "        \"motion_bucket_id\": 127,\n",
    "        \"noise_aug_strength\": 0.02,\n",
    "        \"decode_chunk_size\": 8,\n",
    "        \"seed\": seed,\n",
    "    }\n",
    "    file_name = generate_request_payload(data)\n",
    "    input_s3_location = upload_file(file_name)\n",
    "\n",
    "    response = sm_runtime_client.invoke_endpoint_async(\n",
    "        EndpointName=endpoint_name,\n",
    "        InputLocation=input_s3_location,\n",
    "        InvocationTimeoutSeconds=3600,\n",
    "    )\n",
    "\n",
    "    output = get_output(response)\n",
    "    data = json.loads(output)\n",
    "    loaded_video_frames = load_video_frames(data[\"frames\"])\n",
    "\n",
    "    os.makedirs(\"tmp/video_out\", exist_ok=True)\n",
    "    export_to_video(loaded_video_frames, f\"tmp/video_out/{movie_title}.mp4\", fps=6)\n",
    "    print(f\"Video created: {movie_title}.mp4\")"
   ]
  },
  {
   "cell_type": "markdown",
   "id": "40",
   "metadata": {},
   "source": [
    "## Cleanup\n",
    "\n",
    "Once you are done with your experiments, consider deleting the SageMaker endpoint by uncommenting and running the below code."
   ]
  },
  {
   "cell_type": "code",
   "execution_count": null,
   "id": "41",
   "metadata": {},
   "outputs": [],
   "source": [
    "# client_sm = boto3.client(\"sagemaker\")\n",
    "# client_sm.delete_endpoint(EndpointName=endpoint_name)"
   ]
  }
 ],
 "metadata": {
  "kernelspec": {
   "display_name": "Python 3 (ipykernel)",
   "language": "python",
   "name": "python3"
  },
  "language_info": {
   "codemirror_mode": {
    "name": "ipython",
    "version": 3
   },
   "file_extension": ".py",
   "mimetype": "text/x-python",
   "name": "python",
   "nbconvert_exporter": "python",
   "pygments_lexer": "ipython3",
   "version": "3.12.4"
  }
 },
 "nbformat": 4,
 "nbformat_minor": 5
}
